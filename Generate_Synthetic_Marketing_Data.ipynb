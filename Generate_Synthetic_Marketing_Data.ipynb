{
 "cells": [
  {
   "cell_type": "markdown",
   "id": "d6ac91ed",
   "metadata": {},
   "source": [
    "# 🧪 Synthetic Marketing Data Generator\n",
    "This notebook generates a synthetic dataset simulating weekly marketing spend and sales."
   ]
  },
  {
   "cell_type": "code",
   "execution_count": null,
   "id": "a9ed83c9",
   "metadata": {},
   "outputs": [],
   "source": [
    "import pandas as pd\n",
    "import numpy as np\n",
    "\n",
    "# Set seed for reproducibility\n",
    "np.random.seed(42)"
   ]
  },
  {
   "cell_type": "markdown",
   "id": "cad37b19",
   "metadata": {},
   "source": [
    "## 📆 Create Weekly Date Range"
   ]
  },
  {
   "cell_type": "code",
   "execution_count": null,
   "id": "323f1903",
   "metadata": {},
   "outputs": [],
   "source": [
    "weeks = pd.date_range(start='2020-01-05', end='2023-12-31', freq='W')\n",
    "n = len(weeks)"
   ]
  },
  {
   "cell_type": "markdown",
   "id": "097e2f87",
   "metadata": {},
   "source": [
    "## 💰 Generate Spend Data Per Channel"
   ]
  },
  {
   "cell_type": "code",
   "execution_count": null,
   "id": "fe395253",
   "metadata": {},
   "outputs": [],
   "source": [
    "data = pd.DataFrame({\n",
    "    'week': weeks,\n",
    "    'tv_spend': np.random.gamma(5, 2000, n),\n",
    "    'radio_spend': np.random.gamma(3, 800, n),\n",
    "    'paid_search_spend': np.random.gamma(4, 1200, n),\n",
    "    'paid_social_spend': np.random.gamma(2, 1500, n),\n",
    "    'display_spend': np.random.gamma(3, 600, n),\n",
    "    'direct_traffic': np.random.gamma(2, 1000, n),\n",
    "    'out_of_home_spend': np.random.gamma(2, 1100, n)\n",
    "})"
   ]
  },
  {
   "cell_type": "markdown",
   "id": "bdfd956b",
   "metadata": {},
   "source": [
    "## 📈 Calculate Synthetic Sales"
   ]
  },
  {
   "cell_type": "code",
   "execution_count": null,
   "id": "c8a56ff6",
   "metadata": {},
   "outputs": [],
   "source": [
    "data['sales'] = (\n",
    "    50000 +\n",
    "    0.06 * data['tv_spend'] +\n",
    "    0.05 * data['radio_spend'] +\n",
    "    0.08 * data['paid_search_spend'] +\n",
    "    0.07 * data['paid_social_spend'] +\n",
    "    0.03 * data['display_spend'] +\n",
    "    0.10 * data['direct_traffic'] +\n",
    "    0.04 * data['out_of_home_spend'] +\n",
    "    np.random.normal(0, 5000, n)\n",
    ")"
   ]
  },
  {
   "cell_type": "markdown",
   "id": "8f0ba4fb",
   "metadata": {},
   "source": [
    "## 🏷️ Add Metadata: Region and Campaign Type"
   ]
  },
  {
   "cell_type": "code",
   "execution_count": null,
   "id": "04f161ae",
   "metadata": {},
   "outputs": [],
   "source": [
    "data['region'] = np.random.choice(['North', 'South', 'East', 'West'], size=n)\n",
    "data['campaign_type'] = np.random.choice(['Brand', 'Performance'], size=n)"
   ]
  },
  {
   "cell_type": "markdown",
   "id": "c583c3e8",
   "metadata": {},
   "source": [
    "## 💾 Export Dataset to CSV"
   ]
  },
  {
   "cell_type": "code",
   "execution_count": null,
   "id": "e2210255",
   "metadata": {},
   "outputs": [],
   "source": [
    "data.to_csv('synthetic_marketing_data.csv', index=False)\n",
    "data.head()"
   ]
  }
 ],
 "metadata": {},
 "nbformat": 4,
 "nbformat_minor": 5
}
