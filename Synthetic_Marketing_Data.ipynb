{
 "cells": [
  {
   "cell_type": "markdown",
   "id": "de358d69",
   "metadata": {},
   "source": [
    "# 📊 Synthetic Marketing Data Exploration\n",
    "This notebook provides an initial exploration of the synthetic marketing dataset."
   ]
  },
  {
   "cell_type": "code",
   "execution_count": null,
   "id": "274d1e5d",
   "metadata": {},
   "outputs": [],
   "source": [
    "import pandas as pd\n",
    "import matplotlib.pyplot as plt\n",
    "import seaborn as sns\n",
    "\n",
    "# Load the dataset\n",
    "df = pd.read_csv('synthetic_marketing_data.csv')\n",
    "df.head()"
   ]
  },
  {
   "cell_type": "markdown",
   "id": "c41af014",
   "metadata": {},
   "source": [
    "## 🕵️‍♀️ Basic Overview"
   ]
  },
  {
   "cell_type": "code",
   "execution_count": null,
   "id": "b5ab15ef",
   "metadata": {},
   "outputs": [],
   "source": [
    "df.info()\n",
    "df.describe()"
   ]
  },
  {
   "cell_type": "markdown",
   "id": "da4ae426",
   "metadata": {},
   "source": [
    "## 📈 Weekly Sales Over Time"
   ]
  },
  {
   "cell_type": "code",
   "execution_count": null,
   "id": "22acdcbf",
   "metadata": {},
   "outputs": [],
   "source": [
    "plt.figure(figsize=(14,6))\n",
    "df.plot(x='week', y='sales', figsize=(14,5), legend=False)\n",
    "plt.title('Weekly Sales Over Time')\n",
    "plt.xlabel('Week')\n",
    "plt.ylabel('Sales')\n",
    "plt.grid(True)\n",
    "plt.show()"
   ]
  },
  {
   "cell_type": "markdown",
   "id": "29cfee57",
   "metadata": {},
   "source": [
    "## 💸 Spend Distribution by Channel"
   ]
  },
  {
   "cell_type": "code",
   "execution_count": null,
   "id": "f9d931ae",
   "metadata": {},
   "outputs": [],
   "source": [
    "spend_cols = [col for col in df.columns if '_spend' in col]\n",
    "df[spend_cols].plot(kind='box', figsize=(12,6), title='Spend Distribution by Channel')\n",
    "plt.show()"
   ]
  },
  {
   "cell_type": "markdown",
   "id": "c89fb620",
   "metadata": {},
   "source": [
    "## 🗺️ Region vs Campaign Type Distribution"
   ]
  },
  {
   "cell_type": "code",
   "execution_count": null,
   "id": "0c4c55ff",
   "metadata": {},
   "outputs": [],
   "source": [
    "pd.crosstab(df['region'], df['campaign_type'])"
   ]
  },
  {
   "cell_type": "markdown",
   "id": "d7feb059",
   "metadata": {},
   "source": [
    "## 🔄 Correlation Between Spend and Sales"
   ]
  },
  {
   "cell_type": "code",
   "execution_count": null,
   "id": "082ec33d",
   "metadata": {},
   "outputs": [],
   "source": [
    "corr = df[spend_cols + ['sales']].corr()\n",
    "plt.figure(figsize=(10,8))\n",
    "sns.heatmap(corr, annot=True, cmap='coolwarm', fmt='.2f')\n",
    "plt.title('Correlation Matrix')\n",
    "plt.show()"
   ]
  }
 ],
 "metadata": {},
 "nbformat": 4,
 "nbformat_minor": 5
}
